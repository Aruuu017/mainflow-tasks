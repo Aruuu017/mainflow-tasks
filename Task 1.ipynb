{
 "cells": [
  {
   "cell_type": "code",
   "execution_count": 1,
   "id": "946ecbbc-38f6-4872-8053-c6a136e617fe",
   "metadata": {},
   "outputs": [
    {
     "name": "stdout",
     "output_type": "stream",
     "text": [
      "Original list: [1, 2, 3, 4, 5]\n",
      "List after adding an element: [1, 2, 3, 4, 5, 6]\n",
      "List after removing an element: [1, 3, 4, 5, 6]\n",
      "List after modifying an element: [1, 3, 10, 5, 6]\n",
      "\n",
      "Original dictionary: {'a': 1, 'b': 2, 'c': 3}\n",
      "Dictionary after adding a key-value pair: {'a': 1, 'b': 2, 'c': 3, 'd': 4}\n",
      "Dictionary after removing a key-value pair: {'a': 1, 'c': 3, 'd': 4}\n",
      "Dictionary after modifying a value: {'a': 1, 'c': 10, 'd': 4}\n",
      "\n",
      "Original set: {1, 2, 3, 4, 5}\n",
      "Set after adding an element: {1, 2, 3, 4, 5, 6}\n",
      "Set after removing an element: {1, 3, 4, 5, 6}\n",
      "Is 3 in the set? True\n",
      "Is 7 in the set? False\n",
      "Set after modifying (removing 4 and adding 10): {1, 3, 5, 6, 10}\n"
     ]
    }
   ],
   "source": [
    "# List operations\n",
    "my_list = [1, 2, 3, 4, 5]\n",
    "print(\"Original list:\", my_list)\n",
    "\n",
    "# Adding an element\n",
    "my_list.append(6)\n",
    "print(\"List after adding an element:\", my_list)\n",
    "\n",
    "# Removing an element\n",
    "my_list.remove(2)\n",
    "print(\"List after removing an element:\", my_list)\n",
    "\n",
    "# Modifying an element\n",
    "my_list[2] = 10\n",
    "print(\"List after modifying an element:\", my_list)\n",
    "\n",
    "# Dictionary operations\n",
    "my_dict = {'a': 1, 'b': 2, 'c': 3}\n",
    "print(\"\\nOriginal dictionary:\", my_dict)\n",
    "\n",
    "# Adding a key-value pair\n",
    "my_dict['d'] = 4\n",
    "print(\"Dictionary after adding a key-value pair:\", my_dict)\n",
    "\n",
    "# Removing a key-value pair\n",
    "del my_dict['b']\n",
    "print(\"Dictionary after removing a key-value pair:\", my_dict)\n",
    "\n",
    "# Modifying a value\n",
    "my_dict['c'] = 10\n",
    "print(\"Dictionary after modifying a value:\", my_dict)\n",
    "\n",
    "# Set operations\n",
    "my_set = {1, 2, 3, 4, 5}\n",
    "print(\"\\nOriginal set:\", my_set)\n",
    "\n",
    "# Adding an element\n",
    "my_set.add(6)\n",
    "print(\"Set after adding an element:\", my_set)\n",
    "\n",
    "# Removing an element\n",
    "my_set.remove(2)\n",
    "print(\"Set after removing an element:\", my_set)\n",
    "\n",
    "# Checking if an element is in the set\n",
    "print(\"Is 3 in the set?\", 3 in my_set)\n",
    "print(\"Is 7 in the set?\", 7 in my_set)\n",
    "\n",
    "# Modifying a set (no direct modification, but we can remove and add elements)\n",
    "my_set.remove(4)\n",
    "my_set.add(10)\n",
    "print(\"Set after modifying (removing 4 and adding 10):\", my_set)\n"
   ]
  },
  {
   "cell_type": "code",
   "execution_count": null,
   "id": "b682481c-bc3f-4cf6-968e-0bc7611a9fbb",
   "metadata": {},
   "outputs": [],
   "source": []
  }
 ],
 "metadata": {
  "kernelspec": {
   "display_name": "Python 3 (ipykernel)",
   "language": "python",
   "name": "python3"
  },
  "language_info": {
   "codemirror_mode": {
    "name": "ipython",
    "version": 3
   },
   "file_extension": ".py",
   "mimetype": "text/x-python",
   "name": "python",
   "nbconvert_exporter": "python",
   "pygments_lexer": "ipython3",
   "version": "3.11.2"
  }
 },
 "nbformat": 4,
 "nbformat_minor": 5
}
